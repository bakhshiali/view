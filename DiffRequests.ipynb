{
 "cells": [
  {
   "cell_type": "code",
   "execution_count": null,
   "metadata": {},
   "outputs": [],
   "source": [
    "############ multi user requests\n",
    "import ssl\n",
    "import requests\n",
    "from requests.adapters import HTTPAdapter\n",
    "from urllib3.poolmanager import PoolManager\n",
    "from urllib3.util import ssl_\n",
    "\n",
    "import time\n",
    "import random"
   ]
  },
  {
   "cell_type": "code",
   "execution_count": null,
   "metadata": {},
   "outputs": [],
   "source": [
    "def requestsURL(requestsNum,urls):\n",
    "    CIPHERS = \"TLS_ECDHE_ECDSA_WITH_AES_256_GCM_SHA384\"\n",
    "    \n",
    "    class TLSAdapter(HTTPAdapter):\n",
    "        def __init__(self, ssl_options=0, *args, **kwargs):\n",
    "            self.ssl_options = ssl_options\n",
    "            super().__init__(*args, **kwargs)\n",
    "        def init_poolmanager(self, *args, **kwargs):\n",
    "            context = ssl_.create_urllib3_context(ciphers=CIPHERS, cert_reqs=ssl.CERT_REQUIRED, options=self.ssl_options)\n",
    "            self.poolmanager = PoolManager(*args, ssl_context=context, **kwargs)\n",
    "    \n",
    "    #### read user agents list from txt file\n",
    "    users = [\"Mozilla/5.0 (X11; Linux x86_64) AppleWebKit/537.36 (KHTML, like Gecko) Ubuntu Chromium/37.0.2062.94 Chrome/37.0.2062.94 Safari/537.36\",\n",
    "             \"Mozilla/5.0 (Windows NT 6.1; WOW64) AppleWebKit/537.36 (KHTML, like Gecko) Chrome/45.0.2454.85 Safari/537.36\",\n",
    "             \"Mozilla/5.0 (Windows NT 6.1; WOW64; Trident/7.0; rv:11.0) like Gecko\",\n",
    "             \"Mozilla/5.0 (Windows NT 6.1; WOW64; rv:40.0) Gecko/20100101 Firefox/40.0\",\n",
    "             \"Mozilla/5.0 (Macintosh; Intel Mac OS X 10_10_5) AppleWebKit/600.8.9 (KHTML, like Gecko) Version/8.0.8 Safari/600.8.9\",\n",
    "             \"Mozilla/5.0 (iPad; CPU OS 8_4_1 like Mac OS X) AppleWebKit/600.1.4 (KHTML, like Gecko) Version/8.0 Mobile/12H321 Safari/600.1.4\",\n",
    "             \"Mozilla/5.0 (Windows NT 6.3; WOW64) AppleWebKit/537.36 (KHTML, like Gecko) Chrome/45.0.2454.85 Safari/537.36\",\n",
    "             \"Mozilla/5.0 (Windows NT 10.0; WOW64) AppleWebKit/537.36 (KHTML, like Gecko) Chrome/45.0.2454.85 Safari/537.36\"]\n",
    "    print(\"Max views : \",len(users))\n",
    "    \n",
    "    headers={\"User-Agent\":\"Mozilla/5.0 (Linux; Android 6.0.1; Nexus 10 Build/MOB31T) AppleWebKit/537.36 (KHTML, like Gecko) Chrome/67.0.3396.87 Safari/537.36\",\n",
    "         \"Accept\":\"text/html,application/xhtml+xml,application/xml;q=0.9,image/avif,image/webp,*/*;q=0.8\",\n",
    "         \"Accept-Language\":\"en-US,en;q=0.5\",\n",
    "         \"Accept-Encoding\":\"gzip, deflate, br\",\n",
    "         \"DNT\":\"1\",\n",
    "         \"Connection\":\"keep-alive\",\n",
    "         #\"Cookie\":\"did=sSlad0HdKAEXzOkCi86HnitCj81ojQ7gJLR6OU0wpdAaZUXMeBO8PW97Bbxi61b9; ptc=RG1.2774750537935888092.1663927848; sid=QHgirb18eI7ZfBg0eurgyV8tO16pL3VHdleijnHP0sUv8tqZLmoK5iYM0W1PwKip2L9t0SX8LzCANIxUoTaki9KAeor7fpNJQ1EKBaixOm4v05qQ9NlHUKyDfQmywvro; __cf_bm=DkUtso3Ll3WZyTQJzx1JTJ71Oeh1WkaVTl7EtEtG7sM-1663929943-0-AQ8Sn63dI+tInmqzSO3x9gMRwx/m2cDu7wJEATTH3SHPpln2qrI8O3atahrtJYJM/PSFkLoInFAhNBvxGC7RrVm/nJIDFQsxu9BH7KfGw0ln\",\n",
    "         \"Upgrade-Insecure-Requests\":\"1\",\n",
    "         \"Sec-Fetch-Dest\":\"document\",\n",
    "         \"Sec-Fetch-Mode\":\"navigate\",\n",
    "         \"Sec-Fetch-Site\":\"none\",\n",
    "         \"Sec-Fetch-User\":\"?1\",\n",
    "         \"TE\":\"trailers\"\n",
    "        }\n",
    "    adapter = TLSAdapter(ssl.OP_NO_TLSv1 | ssl.OP_NO_TLSv1_1)\n",
    "    with requests.session() as session:\n",
    "        session.mount(\"https://github.com/ibotland\", adapter)\n",
    "        session.headers = headers\n",
    "        for i in range(requestsNum):\n",
    "            for url in urls:\n",
    "                headers[\"User-Agent\"]=random.choice(users)\n",
    "                respons = session.get(url, headers=headers)\n",
    "                response = requests.get(url, headers=headers)"
   ]
  },
  {
   "cell_type": "code",
   "execution_count": null,
   "metadata": {
    "scrolled": true,
    "slideshow": {
     "slide_type": "skip"
    },
    "tags": [
     "%%raises-exception"
    ]
   },
   "outputs": [],
   "source": [
    "url = [\"https://github.com/ibotland\"]\n",
    "requestsURL(requestsNum=2,urls=url)"
   ]
  },
  {
   "cell_type": "code",
   "execution_count": null,
   "metadata": {},
   "outputs": [],
   "source": []
  }
 ],
 "metadata": {
  "kernelspec": {
   "display_name": "Python 3 (ipykernel)",
   "language": "python",
   "name": "python3"
  },
  "language_info": {
   "codemirror_mode": {
    "name": "ipython",
    "version": 3
   },
   "file_extension": ".py",
   "mimetype": "text/x-python",
   "name": "python",
   "nbconvert_exporter": "python",
   "pygments_lexer": "ipython3",
   "version": "3.10.8"
  }
 },
 "nbformat": 4,
 "nbformat_minor": 4
}
