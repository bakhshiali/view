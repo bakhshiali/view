{
 "cells": [
  {
   "cell_type": "code",
   "execution_count": 1,
   "metadata": {},
   "outputs": [],
   "source": [
    "############ multi user requests\n",
    "import ssl\n",
    "import requests\n",
    "from requests.adapters import HTTPAdapter\n",
    "from urllib3.poolmanager import PoolManager\n",
    "from urllib3.util import ssl_\n",
    "\n",
    "import time\n",
    "import random"
   ]
  },
  {
   "cell_type": "code",
   "execution_count": 2,
   "metadata": {},
   "outputs": [],
   "source": [
    "def requestsURL(requestsNum,urls):\n",
    "    CIPHERS = \"ECDHE-RSA-AES256-GCM-SHA384:ECDHE-ECDSA-AES256-GCM-SHA384:ECDHE-RSA-AES256-SHA384:ECDHE-ECDSA-AES256-SHA384:ECDHE-RSA-AES128-GCM-SHA256:ECDHE-RSA-AES128-SHA256:AES256-SHA\"\n",
    "    \n",
    "    class TLSAdapter(HTTPAdapter):\n",
    "        def __init__(self, ssl_options=0, *args, **kwargs):\n",
    "            self.ssl_options = ssl_options\n",
    "            super().__init__(*args, **kwargs)\n",
    "        def init_poolmanager(self, *args, **kwargs):\n",
    "            context = ssl_.create_urllib3_context(ciphers=CIPHERS, cert_reqs=ssl.CERT_REQUIRED, options=self.ssl_options)\n",
    "            self.poolmanager = PoolManager(*args, ssl_context=context, **kwargs)\n",
    "    \n",
    "    #### read user agents list from txt file\n",
    "    users = open(\"user-agents.txt\", \"r\").read().splitlines()\n",
    "    print(\"Max views : \",len(users))\n",
    "    \n",
    "    headers={#\"Host\":\"https://github.com\",\n",
    "        \"User-Agent\":\"Mozilla/5.0 (Linux; Android 6.0.1; Nexus 10 Build/MOB31T) AppleWebKit/537.36 (KHTML, like Gecko) Chrome/67.0.3396.87 Safari/537.36\",\n",
    "         \"Accept\":\"text/html,application/xhtml+xml,application/xml;q=0.9,image/avif,image/webp,*/*;q=0.8\",\n",
    "         \"Accept-Language\":\"en-US,en;q=0.5\",\n",
    "         \"Accept-Encoding\":\"gzip, deflate, br\",\n",
    "         \"DNT\":\"1\",\n",
    "         \"Connection\":\"keep-alive\",\n",
    "         #\"Cookie\":\"did=sSlad0HdKAEXzOkCi86HnitCj81ojQ7gJLR6OU0wpdAaZUXMeBO8PW97Bbxi61b9; ptc=RG1.2774750537935888092.1663927848; sid=QHgirb18eI7ZfBg0eurgyV8tO16pL3VHdleijnHP0sUv8tqZLmoK5iYM0W1PwKip2L9t0SX8LzCANIxUoTaki9KAeor7fpNJQ1EKBaixOm4v05qQ9NlHUKyDfQmywvro; __cf_bm=DkUtso3Ll3WZyTQJzx1JTJ71Oeh1WkaVTl7EtEtG7sM-1663929943-0-AQ8Sn63dI+tInmqzSO3x9gMRwx/m2cDu7wJEATTH3SHPpln2qrI8O3atahrtJYJM/PSFkLoInFAhNBvxGC7RrVm/nJIDFQsxu9BH7KfGw0ln\",\n",
    "         \"Upgrade-Insecure-Requests\":\"1\",\n",
    "         \"Sec-Fetch-Dest\":\"document\",\n",
    "         \"Sec-Fetch-Mode\":\"navigate\",\n",
    "         \"Sec-Fetch-Site\":\"none\",\n",
    "         \"Sec-Fetch-User\":\"?1\",\n",
    "         \"TE\":\"trailers\"\n",
    "        }\n",
    "    ##### adapter: don't use TLS v1 or v1.1 or v1.2 --> uses TLSv1.3\n",
    "    adapter = TLSAdapter(ssl.OP_NO_TLSv1 | ssl.OP_NO_TLSv1_1 | ssl.OP_NO_TLSv1_2)\n",
    "    with requests.session() as session:\n",
    "        session.mount(\"https://github.com/ibotland\", adapter)\n",
    "        session.headers = headers\n",
    "        for i in range(requestsNum):\n",
    "            for url in urls:\n",
    "                headers[\"User-Agent\"]=random.choice(users) #21 urls\n",
    "                respons = session.get(url, headers=headers)\n",
    "                response = requests.get(url, headers=headers)\n",
    "                #print(response.content)"
   ]
  },
  {
   "cell_type": "code",
   "execution_count": 3,
   "metadata": {
    "scrolled": true,
    "slideshow": {
     "slide_type": "skip"
    },
    "tags": [
     "%%raises-exception"
    ]
   },
   "outputs": [
    {
     "name": "stdout",
     "output_type": "stream",
     "text": [
      "Max views :  1000\n"
     ]
    }
   ],
   "source": [
    "#cell tag : %%raises-exception\n",
    "url = [\"https://github.com/ibotland\"]\n",
    "requestsURL(requestsNum=2,urls=url)\n"
   ]
  }
 ],
 "metadata": {
  "kernelspec": {
   "display_name": "Python 3 (ipykernel)",
   "language": "python",
   "name": "python3"
  },
  "language_info": {
   "codemirror_mode": {
    "name": "ipython",
    "version": 3
   },
   "file_extension": ".py",
   "mimetype": "text/x-python",
   "name": "python",
   "nbconvert_exporter": "python",
   "pygments_lexer": "ipython3",
   "version": "3.10.8"
  }
 },
 "nbformat": 4,
 "nbformat_minor": 4
}
